{
  "nbformat": 4,
  "nbformat_minor": 0,
  "metadata": {
    "colab": {
      "name": "poi_linear.ipynb",
      "provenance": [],
      "include_colab_link": true
    },
    "kernelspec": {
      "name": "python3",
      "display_name": "Python 3"
    },
    "language_info": {
      "name": "python"
    }
  },
  "cells": [
    {
      "cell_type": "markdown",
      "metadata": {
        "id": "view-in-github",
        "colab_type": "text"
      },
      "source": [
        "<a href=\"https://colab.research.google.com/github/tecXworld/SVM_KERNEL-s/blob/main/poi_linear.ipynb\" target=\"_parent\"><img src=\"https://colab.research.google.com/assets/colab-badge.svg\" alt=\"Open In Colab\"/></a>"
      ]
    },
    {
      "cell_type": "code",
      "metadata": {
        "id": "R_eCJLb6a0Gq"
      },
      "source": [
        "import pandas as pd\n",
        "import numpy as np\n",
        "import matplotlib.pyplot as plt\n",
        "%matplotlib inline"
      ],
      "execution_count": null,
      "outputs": []
    },
    {
      "cell_type": "code",
      "metadata": {
        "id": "oofT8ekBnU1c"
      },
      "source": [
        "Abhi = pd.read_csv(\"/content/gdrive/MyDrive/poi.csv\")\n"
      ],
      "execution_count": null,
      "outputs": []
    },
    {
      "cell_type": "code",
      "metadata": {
        "colab": {
          "base_uri": "https://localhost:8080/"
        },
        "id": "EZ01CBbnni-X",
        "outputId": "b3fa09e5-c5e0-4d1f-8a48-b9a3aa254743"
      },
      "source": [
        "Abhi.shape"
      ],
      "execution_count": null,
      "outputs": [
        {
          "output_type": "execute_result",
          "data": {
            "text/plain": [
              "(442, 8)"
            ]
          },
          "metadata": {
            "tags": []
          },
          "execution_count": 52
        }
      ]
    },
    {
      "cell_type": "code",
      "metadata": {
        "colab": {
          "base_uri": "https://localhost:8080/",
          "height": 204
        },
        "id": "akKqgkYUogEL",
        "outputId": "0b210d7a-1bd0-4141-db71-8a0d6c59c185"
      },
      "source": [
        "Abhi.head()"
      ],
      "execution_count": null,
      "outputs": [
        {
          "output_type": "execute_result",
          "data": {
            "text/html": [
              "<div>\n",
              "<style scoped>\n",
              "    .dataframe tbody tr th:only-of-type {\n",
              "        vertical-align: middle;\n",
              "    }\n",
              "\n",
              "    .dataframe tbody tr th {\n",
              "        vertical-align: top;\n",
              "    }\n",
              "\n",
              "    .dataframe thead th {\n",
              "        text-align: right;\n",
              "    }\n",
              "</style>\n",
              "<table border=\"1\" class=\"dataframe\">\n",
              "  <thead>\n",
              "    <tr style=\"text-align: right;\">\n",
              "      <th></th>\n",
              "      <th>wmc</th>\n",
              "      <th>dit</th>\n",
              "      <th>noc</th>\n",
              "      <th>cbo</th>\n",
              "      <th>rfc</th>\n",
              "      <th>lcom</th>\n",
              "      <th>loc</th>\n",
              "      <th>bug1</th>\n",
              "    </tr>\n",
              "  </thead>\n",
              "  <tbody>\n",
              "    <tr>\n",
              "      <th>0</th>\n",
              "      <td>7</td>\n",
              "      <td>1</td>\n",
              "      <td>0</td>\n",
              "      <td>8</td>\n",
              "      <td>21</td>\n",
              "      <td>9</td>\n",
              "      <td>207</td>\n",
              "      <td>1</td>\n",
              "    </tr>\n",
              "    <tr>\n",
              "      <th>1</th>\n",
              "      <td>5</td>\n",
              "      <td>3</td>\n",
              "      <td>0</td>\n",
              "      <td>4</td>\n",
              "      <td>13</td>\n",
              "      <td>10</td>\n",
              "      <td>40</td>\n",
              "      <td>0</td>\n",
              "    </tr>\n",
              "    <tr>\n",
              "      <th>2</th>\n",
              "      <td>5</td>\n",
              "      <td>2</td>\n",
              "      <td>0</td>\n",
              "      <td>5</td>\n",
              "      <td>7</td>\n",
              "      <td>6</td>\n",
              "      <td>46</td>\n",
              "      <td>1</td>\n",
              "    </tr>\n",
              "    <tr>\n",
              "      <th>3</th>\n",
              "      <td>11</td>\n",
              "      <td>2</td>\n",
              "      <td>0</td>\n",
              "      <td>7</td>\n",
              "      <td>21</td>\n",
              "      <td>35</td>\n",
              "      <td>107</td>\n",
              "      <td>1</td>\n",
              "    </tr>\n",
              "    <tr>\n",
              "      <th>4</th>\n",
              "      <td>9</td>\n",
              "      <td>2</td>\n",
              "      <td>0</td>\n",
              "      <td>5</td>\n",
              "      <td>13</td>\n",
              "      <td>36</td>\n",
              "      <td>59</td>\n",
              "      <td>0</td>\n",
              "    </tr>\n",
              "  </tbody>\n",
              "</table>\n",
              "</div>"
            ],
            "text/plain": [
              "   wmc  dit  noc  cbo  rfc  lcom  loc  bug1\n",
              "0    7    1    0    8   21     9  207     1\n",
              "1    5    3    0    4   13    10   40     0\n",
              "2    5    2    0    5    7     6   46     1\n",
              "3   11    2    0    7   21    35  107     1\n",
              "4    9    2    0    5   13    36   59     0"
            ]
          },
          "metadata": {
            "tags": []
          },
          "execution_count": 53
        }
      ]
    },
    {
      "cell_type": "code",
      "metadata": {
        "id": "aSritfFRojnR"
      },
      "source": [
        "X = Abhi.drop('bug1', axis=1)\n",
        "y = Abhi['bug1']"
      ],
      "execution_count": null,
      "outputs": []
    },
    {
      "cell_type": "code",
      "metadata": {
        "id": "_qWWESV1o8f0"
      },
      "source": [
        "from sklearn.model_selection import train_test_split\n",
        "X_train, X_test, y_train, y_test = train_test_split(X, y, test_size = 0.30)"
      ],
      "execution_count": null,
      "outputs": []
    },
    {
      "cell_type": "code",
      "metadata": {
        "colab": {
          "base_uri": "https://localhost:8080/"
        },
        "id": "G-O4Aanno9KZ",
        "outputId": "cc52874a-93bc-4f98-e646-55a9047ff8c6"
      },
      "source": [
        "from sklearn.svm import SVC\n",
        "svclassifier = SVC(kernel='linear')\n",
        "svclassifier.fit(X_train, y_train)"
      ],
      "execution_count": null,
      "outputs": [
        {
          "output_type": "execute_result",
          "data": {
            "text/plain": [
              "SVC(C=1.0, break_ties=False, cache_size=200, class_weight=None, coef0=0.0,\n",
              "    decision_function_shape='ovr', degree=3, gamma='scale', kernel='linear',\n",
              "    max_iter=-1, probability=False, random_state=None, shrinking=True,\n",
              "    tol=0.001, verbose=False)"
            ]
          },
          "metadata": {
            "tags": []
          },
          "execution_count": 56
        }
      ]
    },
    {
      "cell_type": "code",
      "metadata": {
        "id": "rFxvtWMlpCc0"
      },
      "source": [
        "y_pred = svclassifier.predict(X_test)"
      ],
      "execution_count": null,
      "outputs": []
    },
    {
      "cell_type": "code",
      "metadata": {
        "colab": {
          "base_uri": "https://localhost:8080/"
        },
        "id": "0nl5cI7ppU_Z",
        "outputId": "5df79680-8816-49e1-e7c5-4497bc0f1eb9"
      },
      "source": [
        "from sklearn.metrics import classification_report, confusion_matrix\n",
        "zz=confusion_matrix(y_test, y_pred)\n",
        "print(zz)\n",
        "print(classification_report(y_test, y_pred))"
      ],
      "execution_count": null,
      "outputs": [
        {
          "output_type": "stream",
          "text": [
            "[[33 18]\n",
            " [ 8 74]]\n",
            "              precision    recall  f1-score   support\n",
            "\n",
            "           0       0.80      0.65      0.72        51\n",
            "           1       0.80      0.90      0.85        82\n",
            "\n",
            "    accuracy                           0.80       133\n",
            "   macro avg       0.80      0.77      0.78       133\n",
            "weighted avg       0.80      0.80      0.80       133\n",
            "\n"
          ],
          "name": "stdout"
        }
      ]
    },
    {
      "cell_type": "code",
      "metadata": {
        "colab": {
          "base_uri": "https://localhost:8080/"
        },
        "id": "a6RyEBZ-wRDg",
        "outputId": "961abc72-ed62-4241-ff07-879ef8ef2590"
      },
      "source": [
        "print(zz)\n",
        "TN=zz[0][0]\n",
        "FP=zz[0][1]\n",
        "FN=zz[1][0]\n",
        "TP=zz[1][1]"
      ],
      "execution_count": null,
      "outputs": [
        {
          "output_type": "stream",
          "text": [
            "[[33 18]\n",
            " [ 8 74]]\n"
          ],
          "name": "stdout"
        }
      ]
    },
    {
      "cell_type": "code",
      "metadata": {
        "colab": {
          "base_uri": "https://localhost:8080/"
        },
        "id": "npc8PFLrwcx1",
        "outputId": "84c0ed73-1d02-40eb-ac4d-74c5f8570ad8"
      },
      "source": [
        "sens=TP/(TP+FN)\n",
        "print(sens)"
      ],
      "execution_count": null,
      "outputs": [
        {
          "output_type": "stream",
          "text": [
            "0.9024390243902439\n"
          ],
          "name": "stdout"
        }
      ]
    },
    {
      "cell_type": "code",
      "metadata": {
        "colab": {
          "base_uri": "https://localhost:8080/"
        },
        "id": "TsCbp_Q8w17y",
        "outputId": "1430632e-f1f0-4cfc-d5e4-8672246a3a09"
      },
      "source": [
        "spec=TN/(TN+FP)\n",
        "print(spec)"
      ],
      "execution_count": null,
      "outputs": [
        {
          "output_type": "stream",
          "text": [
            "0.6470588235294118\n"
          ],
          "name": "stdout"
        }
      ]
    },
    {
      "cell_type": "code",
      "metadata": {
        "colab": {
          "base_uri": "https://localhost:8080/"
        },
        "id": "Gzqd_sFOxrgC",
        "outputId": "8bf30d06-6539-4d60-a22b-ca1b9780b2bb"
      },
      "source": [
        "import math\n",
        "print(math.sqrt(spec*sens))"
      ],
      "execution_count": null,
      "outputs": [
        {
          "output_type": "stream",
          "text": [
            "0.7641538676398761\n"
          ],
          "name": "stdout"
        }
      ]
    }
  ]
}