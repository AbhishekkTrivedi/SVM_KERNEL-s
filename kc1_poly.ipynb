{
  "nbformat": 4,
  "nbformat_minor": 0,
  "metadata": {
    "colab": {
      "name": "kc1_poly.ipynb",
      "provenance": []
    },
    "kernelspec": {
      "name": "python3",
      "display_name": "Python 3"
    },
    "language_info": {
      "name": "python"
    }
  },
  "cells": [
    {
      "cell_type": "code",
      "metadata": {
        "id": "jec9ZqBA9p_9",
        "colab": {
          "base_uri": "https://localhost:8080/"
        },
        "outputId": "598f505f-a3af-4aac-c091-220a908524a3"
      },
      "source": [
        "from google.colab import drive\n",
        "drive.mount('/content/gdrive')"
      ],
      "execution_count": null,
      "outputs": [
        {
          "output_type": "stream",
          "text": [
            "Drive already mounted at /content/gdrive; to attempt to forcibly remount, call drive.mount(\"/content/gdrive\", force_remount=True).\n"
          ],
          "name": "stdout"
        }
      ]
    },
    {
      "cell_type": "code",
      "metadata": {
        "id": "UY_FFACgMqNA"
      },
      "source": [
        "import pandas as pd\n",
        "import numpy as np\n",
        "import matplotlib.pyplot as plt\n",
        "%matplotlib inline"
      ],
      "execution_count": null,
      "outputs": []
    },
    {
      "cell_type": "code",
      "metadata": {
        "id": "q3fpzPeLAUfW"
      },
      "source": [
        "Abhi = pd.read_csv(\"/content/gdrive/MyDrive/kc1 data.csv\")"
      ],
      "execution_count": null,
      "outputs": []
    },
    {
      "cell_type": "code",
      "metadata": {
        "colab": {
          "base_uri": "https://localhost:8080/"
        },
        "id": "9JNANf-vuJEl",
        "outputId": "3cf5d53b-e90b-4201-a0b9-fa7b8d391256"
      },
      "source": [
        "from google.colab import drive\n",
        "drive.mount('/content/gdrive')"
      ],
      "execution_count": null,
      "outputs": [
        {
          "output_type": "stream",
          "text": [
            "Drive already mounted at /content/gdrive; to attempt to forcibly remount, call drive.mount(\"/content/gdrive\", force_remount=True).\n"
          ],
          "name": "stdout"
        }
      ]
    },
    {
      "cell_type": "code",
      "metadata": {
        "colab": {
          "base_uri": "https://localhost:8080/"
        },
        "id": "TXgyCaqpPpsw",
        "outputId": "044ff8ab-3b6c-439b-9a9f-402d04242ac1"
      },
      "source": [
        "Abhi.shape"
      ],
      "execution_count": null,
      "outputs": [
        {
          "output_type": "execute_result",
          "data": {
            "text/plain": [
              "(145, 8)"
            ]
          },
          "metadata": {
            "tags": []
          },
          "execution_count": 17
        }
      ]
    },
    {
      "cell_type": "code",
      "metadata": {
        "colab": {
          "base_uri": "https://localhost:8080/",
          "height": 204
        },
        "id": "KFMVMkChPu9B",
        "outputId": "cf6d1d8c-67f8-4277-db46-2bafec90df6d"
      },
      "source": [
        "Abhi.head()"
      ],
      "execution_count": null,
      "outputs": [
        {
          "output_type": "execute_result",
          "data": {
            "text/html": [
              "<div>\n",
              "<style scoped>\n",
              "    .dataframe tbody tr th:only-of-type {\n",
              "        vertical-align: middle;\n",
              "    }\n",
              "\n",
              "    .dataframe tbody tr th {\n",
              "        vertical-align: top;\n",
              "    }\n",
              "\n",
              "    .dataframe thead th {\n",
              "        text-align: right;\n",
              "    }\n",
              "</style>\n",
              "<table border=\"1\" class=\"dataframe\">\n",
              "  <thead>\n",
              "    <tr style=\"text-align: right;\">\n",
              "      <th></th>\n",
              "      <th>fault</th>\n",
              "      <th>CBO</th>\n",
              "      <th>LCOM</th>\n",
              "      <th>NOC</th>\n",
              "      <th>RFC</th>\n",
              "      <th>WMC</th>\n",
              "      <th>SLOC</th>\n",
              "      <th>DIT</th>\n",
              "    </tr>\n",
              "  </thead>\n",
              "  <tbody>\n",
              "    <tr>\n",
              "      <th>0</th>\n",
              "      <td>no</td>\n",
              "      <td>9</td>\n",
              "      <td>86</td>\n",
              "      <td>0</td>\n",
              "      <td>222</td>\n",
              "      <td>100</td>\n",
              "      <td>735</td>\n",
              "      <td>5</td>\n",
              "    </tr>\n",
              "    <tr>\n",
              "      <th>1</th>\n",
              "      <td>no</td>\n",
              "      <td>14</td>\n",
              "      <td>72</td>\n",
              "      <td>0</td>\n",
              "      <td>27</td>\n",
              "      <td>12</td>\n",
              "      <td>732</td>\n",
              "      <td>3</td>\n",
              "    </tr>\n",
              "    <tr>\n",
              "      <th>2</th>\n",
              "      <td>no</td>\n",
              "      <td>14</td>\n",
              "      <td>87</td>\n",
              "      <td>5</td>\n",
              "      <td>61</td>\n",
              "      <td>26</td>\n",
              "      <td>598</td>\n",
              "      <td>3</td>\n",
              "    </tr>\n",
              "    <tr>\n",
              "      <th>3</th>\n",
              "      <td>no</td>\n",
              "      <td>5</td>\n",
              "      <td>86</td>\n",
              "      <td>0</td>\n",
              "      <td>24</td>\n",
              "      <td>24</td>\n",
              "      <td>430</td>\n",
              "      <td>0</td>\n",
              "    </tr>\n",
              "    <tr>\n",
              "      <th>4</th>\n",
              "      <td>no</td>\n",
              "      <td>14</td>\n",
              "      <td>96</td>\n",
              "      <td>0</td>\n",
              "      <td>48</td>\n",
              "      <td>18</td>\n",
              "      <td>441</td>\n",
              "      <td>2</td>\n",
              "    </tr>\n",
              "  </tbody>\n",
              "</table>\n",
              "</div>"
            ],
            "text/plain": [
              "  fault  CBO  LCOM  NOC  RFC  WMC  SLOC  DIT\n",
              "0    no    9    86    0  222  100   735    5\n",
              "1    no   14    72    0   27   12   732    3\n",
              "2    no   14    87    5   61   26   598    3\n",
              "3    no    5    86    0   24   24   430    0\n",
              "4    no   14    96    0   48   18   441    2"
            ]
          },
          "metadata": {
            "tags": []
          },
          "execution_count": 18
        }
      ]
    },
    {
      "cell_type": "code",
      "metadata": {
        "id": "UzbTlCQIPx8h"
      },
      "source": [
        "X = Abhi.drop('fault', axis=1)\n",
        "y = Abhi['fault']"
      ],
      "execution_count": null,
      "outputs": []
    },
    {
      "cell_type": "code",
      "metadata": {
        "id": "3rwak3flP2QM"
      },
      "source": [
        "from sklearn.model_selection import train_test_split\n",
        "X_train, X_test, y_train, y_test = train_test_split(X, y, test_size = 0.30)"
      ],
      "execution_count": null,
      "outputs": []
    },
    {
      "cell_type": "code",
      "metadata": {
        "colab": {
          "base_uri": "https://localhost:8080/"
        },
        "id": "Hj_ouo7FP6u2",
        "outputId": "c8ede44e-c154-48a6-b655-410a18716076"
      },
      "source": [
        "from sklearn.svm import SVC\n",
        "svclassifier = SVC(kernel='poly')\n",
        "svclassifier.fit(X_train, y_train)"
      ],
      "execution_count": null,
      "outputs": [
        {
          "output_type": "execute_result",
          "data": {
            "text/plain": [
              "SVC(C=1.0, break_ties=False, cache_size=200, class_weight=None, coef0=0.0,\n",
              "    decision_function_shape='ovr', degree=3, gamma='scale', kernel='poly',\n",
              "    max_iter=-1, probability=False, random_state=None, shrinking=True,\n",
              "    tol=0.001, verbose=False)"
            ]
          },
          "metadata": {
            "tags": []
          },
          "execution_count": 21
        }
      ]
    },
    {
      "cell_type": "code",
      "metadata": {
        "id": "KTlcp6knQDgU"
      },
      "source": [
        "y_pred = svclassifier.predict(X_test)"
      ],
      "execution_count": null,
      "outputs": []
    },
    {
      "cell_type": "code",
      "metadata": {
        "colab": {
          "base_uri": "https://localhost:8080/"
        },
        "id": "JPBGcdMzQHlh",
        "outputId": "f1bc7d84-7bb6-4bb1-c86f-832588174b0d"
      },
      "source": [
        "from sklearn.metrics import classification_report, confusion_matrix\n",
        "zz = confusion_matrix(y_test, y_pred)\n",
        "print(zz)\n",
        "print(classification_report(y_test, y_pred))"
      ],
      "execution_count": null,
      "outputs": [
        {
          "output_type": "stream",
          "text": [
            "[[25  4]\n",
            " [10  5]]\n",
            "              precision    recall  f1-score   support\n",
            "\n",
            "          no       0.71      0.86      0.78        29\n",
            "         yes       0.56      0.33      0.42        15\n",
            "\n",
            "    accuracy                           0.68        44\n",
            "   macro avg       0.63      0.60      0.60        44\n",
            "weighted avg       0.66      0.68      0.66        44\n",
            "\n"
          ],
          "name": "stdout"
        }
      ]
    },
    {
      "cell_type": "code",
      "metadata": {
        "id": "MBwCTU106ZNI",
        "colab": {
          "base_uri": "https://localhost:8080/"
        },
        "outputId": "db072b5c-4455-49bc-c883-dc7b69d0cd37"
      },
      "source": [
        "TN=zz[0][0]\n",
        "FP=zz[0][1]\n",
        "FN=zz[1][0]\n",
        "TP=zz[1][1]\n",
        "sens=TP/(TP+FN)\n",
        "spec=TN/(TN+FP)\n",
        "import math\n",
        "G_mean=(math.sqrt(spec*sens))\n",
        "print(G_mean)"
      ],
      "execution_count": null,
      "outputs": [
        {
          "output_type": "stream",
          "text": [
            "0.5360562674188974\n"
          ],
          "name": "stdout"
        }
      ]
    }
  ]
}