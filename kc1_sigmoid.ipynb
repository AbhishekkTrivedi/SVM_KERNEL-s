{
  "nbformat": 4,
  "nbformat_minor": 0,
  "metadata": {
    "colab": {
      "name": "kc1_sigmoid.ipynb",
      "provenance": [],
      "include_colab_link": true
    },
    "kernelspec": {
      "name": "python3",
      "display_name": "Python 3"
    },
    "language_info": {
      "name": "python"
    }
  },
  "cells": [
    {
      "cell_type": "markdown",
      "metadata": {
        "id": "view-in-github",
        "colab_type": "text"
      },
      "source": [
        "<a href=\"https://colab.research.google.com/github/tecXworld/SVM_KERNEL-s/blob/main/kc1_sigmoid.ipynb\" target=\"_parent\"><img src=\"https://colab.research.google.com/assets/colab-badge.svg\" alt=\"Open In Colab\"/></a>"
      ]
    },
    {
      "cell_type": "code",
      "metadata": {
        "id": "jec9ZqBA9p_9",
        "colab": {
          "base_uri": "https://localhost:8080/"
        },
        "outputId": "4c110dd4-233c-4491-c11c-9deba8b21dbb"
      },
      "source": [
        "from google.colab import drive\n",
        "drive.mount('/content/gdrive')"
      ],
      "execution_count": null,
      "outputs": [
        {
          "output_type": "stream",
          "text": [
            "Mounted at /content/gdrive\n"
          ],
          "name": "stdout"
        }
      ]
    },
    {
      "cell_type": "code",
      "metadata": {
        "id": "UY_FFACgMqNA"
      },
      "source": [
        "import pandas as pd\n",
        "import numpy as np\n",
        "import matplotlib.pyplot as plt\n",
        "%matplotlib inline"
      ],
      "execution_count": null,
      "outputs": []
    },
    {
      "cell_type": "code",
      "metadata": {
        "id": "q3fpzPeLAUfW"
      },
      "source": [
        "Abhi = pd.read_csv(\"/content/gdrive/MyDrive/kc1 data.csv\")"
      ],
      "execution_count": null,
      "outputs": []
    },
    {
      "cell_type": "code",
      "metadata": {
        "colab": {
          "base_uri": "https://localhost:8080/"
        },
        "id": "9JNANf-vuJEl",
        "outputId": "f543cd32-7f97-4098-9d46-6c9cb5421b45"
      },
      "source": [
        "from google.colab import drive\n",
        "drive.mount('/content/gdrive')"
      ],
      "execution_count": null,
      "outputs": [
        {
          "output_type": "stream",
          "text": [
            "Drive already mounted at /content/gdrive; to attempt to forcibly remount, call drive.mount(\"/content/gdrive\", force_remount=True).\n"
          ],
          "name": "stdout"
        }
      ]
    },
    {
      "cell_type": "code",
      "metadata": {
        "colab": {
          "base_uri": "https://localhost:8080/"
        },
        "id": "TXgyCaqpPpsw",
        "outputId": "184475e6-f491-4fed-8f21-de2c7250e31a"
      },
      "source": [
        "Abhi.shape"
      ],
      "execution_count": null,
      "outputs": [
        {
          "output_type": "execute_result",
          "data": {
            "text/plain": [
              "(145, 8)"
            ]
          },
          "metadata": {
            "tags": []
          },
          "execution_count": 5
        }
      ]
    },
    {
      "cell_type": "code",
      "metadata": {
        "colab": {
          "base_uri": "https://localhost:8080/",
          "height": 204
        },
        "id": "KFMVMkChPu9B",
        "outputId": "2133a1c7-1543-48f5-e7a3-49bdb339a9d6"
      },
      "source": [
        "Abhi.head()"
      ],
      "execution_count": null,
      "outputs": [
        {
          "output_type": "execute_result",
          "data": {
            "text/html": [
              "<div>\n",
              "<style scoped>\n",
              "    .dataframe tbody tr th:only-of-type {\n",
              "        vertical-align: middle;\n",
              "    }\n",
              "\n",
              "    .dataframe tbody tr th {\n",
              "        vertical-align: top;\n",
              "    }\n",
              "\n",
              "    .dataframe thead th {\n",
              "        text-align: right;\n",
              "    }\n",
              "</style>\n",
              "<table border=\"1\" class=\"dataframe\">\n",
              "  <thead>\n",
              "    <tr style=\"text-align: right;\">\n",
              "      <th></th>\n",
              "      <th>fault</th>\n",
              "      <th>CBO</th>\n",
              "      <th>LCOM</th>\n",
              "      <th>NOC</th>\n",
              "      <th>RFC</th>\n",
              "      <th>WMC</th>\n",
              "      <th>SLOC</th>\n",
              "      <th>DIT</th>\n",
              "    </tr>\n",
              "  </thead>\n",
              "  <tbody>\n",
              "    <tr>\n",
              "      <th>0</th>\n",
              "      <td>no</td>\n",
              "      <td>9</td>\n",
              "      <td>86</td>\n",
              "      <td>0</td>\n",
              "      <td>222</td>\n",
              "      <td>100</td>\n",
              "      <td>735</td>\n",
              "      <td>5</td>\n",
              "    </tr>\n",
              "    <tr>\n",
              "      <th>1</th>\n",
              "      <td>no</td>\n",
              "      <td>14</td>\n",
              "      <td>72</td>\n",
              "      <td>0</td>\n",
              "      <td>27</td>\n",
              "      <td>12</td>\n",
              "      <td>732</td>\n",
              "      <td>3</td>\n",
              "    </tr>\n",
              "    <tr>\n",
              "      <th>2</th>\n",
              "      <td>no</td>\n",
              "      <td>14</td>\n",
              "      <td>87</td>\n",
              "      <td>5</td>\n",
              "      <td>61</td>\n",
              "      <td>26</td>\n",
              "      <td>598</td>\n",
              "      <td>3</td>\n",
              "    </tr>\n",
              "    <tr>\n",
              "      <th>3</th>\n",
              "      <td>no</td>\n",
              "      <td>5</td>\n",
              "      <td>86</td>\n",
              "      <td>0</td>\n",
              "      <td>24</td>\n",
              "      <td>24</td>\n",
              "      <td>430</td>\n",
              "      <td>0</td>\n",
              "    </tr>\n",
              "    <tr>\n",
              "      <th>4</th>\n",
              "      <td>no</td>\n",
              "      <td>14</td>\n",
              "      <td>96</td>\n",
              "      <td>0</td>\n",
              "      <td>48</td>\n",
              "      <td>18</td>\n",
              "      <td>441</td>\n",
              "      <td>2</td>\n",
              "    </tr>\n",
              "  </tbody>\n",
              "</table>\n",
              "</div>"
            ],
            "text/plain": [
              "  fault  CBO  LCOM  NOC  RFC  WMC  SLOC  DIT\n",
              "0    no    9    86    0  222  100   735    5\n",
              "1    no   14    72    0   27   12   732    3\n",
              "2    no   14    87    5   61   26   598    3\n",
              "3    no    5    86    0   24   24   430    0\n",
              "4    no   14    96    0   48   18   441    2"
            ]
          },
          "metadata": {
            "tags": []
          },
          "execution_count": 6
        }
      ]
    },
    {
      "cell_type": "code",
      "metadata": {
        "id": "UzbTlCQIPx8h"
      },
      "source": [
        "X = Abhi.drop('fault', axis=1)\n",
        "y = Abhi['fault']"
      ],
      "execution_count": null,
      "outputs": []
    },
    {
      "cell_type": "code",
      "metadata": {
        "id": "3rwak3flP2QM"
      },
      "source": [
        "from sklearn.model_selection import train_test_split\n",
        "X_train, X_test, y_train, y_test = train_test_split(X, y, test_size = 0.30)"
      ],
      "execution_count": null,
      "outputs": []
    },
    {
      "cell_type": "code",
      "metadata": {
        "colab": {
          "base_uri": "https://localhost:8080/"
        },
        "id": "Hj_ouo7FP6u2",
        "outputId": "88e7fc16-e6e4-4a9e-e373-7f3d3d35ec9d"
      },
      "source": [
        "from sklearn.svm import SVC\n",
        "svclassifier = SVC(kernel='sigmoid')\n",
        "svclassifier.fit(X_train, y_train)"
      ],
      "execution_count": null,
      "outputs": [
        {
          "output_type": "execute_result",
          "data": {
            "text/plain": [
              "SVC(C=1.0, break_ties=False, cache_size=200, class_weight=None, coef0=0.0,\n",
              "    decision_function_shape='ovr', degree=3, gamma='scale', kernel='sigmoid',\n",
              "    max_iter=-1, probability=False, random_state=None, shrinking=True,\n",
              "    tol=0.001, verbose=False)"
            ]
          },
          "metadata": {
            "tags": []
          },
          "execution_count": 9
        }
      ]
    },
    {
      "cell_type": "code",
      "metadata": {
        "id": "KTlcp6knQDgU"
      },
      "source": [
        "y_pred = svclassifier.predict(X_test)"
      ],
      "execution_count": null,
      "outputs": []
    },
    {
      "cell_type": "code",
      "metadata": {
        "colab": {
          "base_uri": "https://localhost:8080/"
        },
        "id": "JPBGcdMzQHlh",
        "outputId": "89a49a6c-01ba-406a-de1d-d1439b1ef993"
      },
      "source": [
        "from sklearn.metrics import classification_report, confusion_matrix\n",
        "zz = confusion_matrix(y_test, y_pred)\n",
        "print(zz)\n",
        "print(classification_report(y_test, y_pred))"
      ],
      "execution_count": null,
      "outputs": [
        {
          "output_type": "stream",
          "text": [
            "[[28  2]\n",
            " [11  3]]\n",
            "              precision    recall  f1-score   support\n",
            "\n",
            "          no       0.72      0.93      0.81        30\n",
            "         yes       0.60      0.21      0.32        14\n",
            "\n",
            "    accuracy                           0.70        44\n",
            "   macro avg       0.66      0.57      0.56        44\n",
            "weighted avg       0.68      0.70      0.65        44\n",
            "\n"
          ],
          "name": "stdout"
        }
      ]
    },
    {
      "cell_type": "code",
      "metadata": {
        "id": "MBwCTU106ZNI",
        "colab": {
          "base_uri": "https://localhost:8080/"
        },
        "outputId": "7ba86187-030e-4744-82a0-b3d02e6928b6"
      },
      "source": [
        "TN=zz[0][0]\n",
        "FP=zz[0][1]\n",
        "FN=zz[1][0]\n",
        "TP=zz[1][1]\n",
        "sens=TP/(TP+FN)\n",
        "spec=TN/(TN+FP)\n",
        "import math\n",
        "G_mean=(math.sqrt(spec*sens))\n",
        "print(G_mean)"
      ],
      "execution_count": null,
      "outputs": [
        {
          "output_type": "stream",
          "text": [
            "0.4472135954999579\n"
          ],
          "name": "stdout"
        }
      ]
    }
  ]
}